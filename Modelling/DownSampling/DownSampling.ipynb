{
 "cells": [
  {
   "cell_type": "code",
   "execution_count": 7,
   "metadata": {},
   "outputs": [],
   "source": [
    "import pandas as pd\n",
    "import numpy as np"
   ]
  },
  {
   "cell_type": "code",
   "execution_count": 8,
   "metadata": {},
   "outputs": [],
   "source": [
    "down = pd.read_csv('DownSampled_Oscars.csv')"
   ]
  },
  {
   "cell_type": "markdown",
   "metadata": {},
   "source": [
    "# DownSampled Data"
   ]
  },
  {
   "cell_type": "code",
   "execution_count": 9,
   "metadata": {},
   "outputs": [
    {
     "data": {
      "text/html": [
       "<div>\n",
       "<style scoped>\n",
       "    .dataframe tbody tr th:only-of-type {\n",
       "        vertical-align: middle;\n",
       "    }\n",
       "\n",
       "    .dataframe tbody tr th {\n",
       "        vertical-align: top;\n",
       "    }\n",
       "\n",
       "    .dataframe thead th {\n",
       "        text-align: right;\n",
       "    }\n",
       "</style>\n",
       "<table border=\"1\" class=\"dataframe\">\n",
       "  <thead>\n",
       "    <tr style=\"text-align: right;\">\n",
       "      <th></th>\n",
       "      <th>Drama</th>\n",
       "      <th>History</th>\n",
       "      <th>Horror</th>\n",
       "      <th>Metascore</th>\n",
       "      <th>Action</th>\n",
       "      <th>Musical</th>\n",
       "      <th>War</th>\n",
       "      <th>Thriller</th>\n",
       "      <th>Romance</th>\n",
       "      <th>Runtime</th>\n",
       "      <th>imdbRating</th>\n",
       "      <th>Documentary</th>\n",
       "      <th>Science</th>\n",
       "      <th>Fiction</th>\n",
       "      <th>France</th>\n",
       "      <th>Won</th>\n",
       "    </tr>\n",
       "  </thead>\n",
       "  <tbody>\n",
       "    <tr>\n",
       "      <th>0</th>\n",
       "      <td>1</td>\n",
       "      <td>0</td>\n",
       "      <td>0</td>\n",
       "      <td>0.900000</td>\n",
       "      <td>0</td>\n",
       "      <td>0</td>\n",
       "      <td>1</td>\n",
       "      <td>0</td>\n",
       "      <td>0</td>\n",
       "      <td>0.505495</td>\n",
       "      <td>0.800000</td>\n",
       "      <td>0</td>\n",
       "      <td>0</td>\n",
       "      <td>0</td>\n",
       "      <td>0</td>\n",
       "      <td>1</td>\n",
       "    </tr>\n",
       "    <tr>\n",
       "      <th>1</th>\n",
       "      <td>1</td>\n",
       "      <td>0</td>\n",
       "      <td>0</td>\n",
       "      <td>0.311111</td>\n",
       "      <td>1</td>\n",
       "      <td>0</td>\n",
       "      <td>0</td>\n",
       "      <td>1</td>\n",
       "      <td>0</td>\n",
       "      <td>0.131868</td>\n",
       "      <td>0.433333</td>\n",
       "      <td>0</td>\n",
       "      <td>0</td>\n",
       "      <td>0</td>\n",
       "      <td>0</td>\n",
       "      <td>0</td>\n",
       "    </tr>\n",
       "    <tr>\n",
       "      <th>2</th>\n",
       "      <td>1</td>\n",
       "      <td>0</td>\n",
       "      <td>0</td>\n",
       "      <td>0.817000</td>\n",
       "      <td>0</td>\n",
       "      <td>0</td>\n",
       "      <td>0</td>\n",
       "      <td>0</td>\n",
       "      <td>0</td>\n",
       "      <td>0.346154</td>\n",
       "      <td>0.450000</td>\n",
       "      <td>0</td>\n",
       "      <td>0</td>\n",
       "      <td>0</td>\n",
       "      <td>0</td>\n",
       "      <td>1</td>\n",
       "    </tr>\n",
       "    <tr>\n",
       "      <th>3</th>\n",
       "      <td>1</td>\n",
       "      <td>0</td>\n",
       "      <td>0</td>\n",
       "      <td>0.492444</td>\n",
       "      <td>0</td>\n",
       "      <td>0</td>\n",
       "      <td>0</td>\n",
       "      <td>0</td>\n",
       "      <td>0</td>\n",
       "      <td>0.263736</td>\n",
       "      <td>0.533333</td>\n",
       "      <td>0</td>\n",
       "      <td>0</td>\n",
       "      <td>0</td>\n",
       "      <td>0</td>\n",
       "      <td>0</td>\n",
       "    </tr>\n",
       "    <tr>\n",
       "      <th>4</th>\n",
       "      <td>0</td>\n",
       "      <td>0</td>\n",
       "      <td>0</td>\n",
       "      <td>0.788889</td>\n",
       "      <td>1</td>\n",
       "      <td>0</td>\n",
       "      <td>0</td>\n",
       "      <td>0</td>\n",
       "      <td>0</td>\n",
       "      <td>0.335165</td>\n",
       "      <td>0.766667</td>\n",
       "      <td>0</td>\n",
       "      <td>0</td>\n",
       "      <td>0</td>\n",
       "      <td>1</td>\n",
       "      <td>0</td>\n",
       "    </tr>\n",
       "  </tbody>\n",
       "</table>\n",
       "</div>"
      ],
      "text/plain": [
       "   Drama  History  Horror  Metascore  Action  Musical  War  Thriller  Romance  \\\n",
       "0      1        0       0   0.900000       0        0    1         0        0   \n",
       "1      1        0       0   0.311111       1        0    0         1        0   \n",
       "2      1        0       0   0.817000       0        0    0         0        0   \n",
       "3      1        0       0   0.492444       0        0    0         0        0   \n",
       "4      0        0       0   0.788889       1        0    0         0        0   \n",
       "\n",
       "    Runtime  imdbRating  Documentary  Science  Fiction  France  Won  \n",
       "0  0.505495    0.800000            0        0        0       0    1  \n",
       "1  0.131868    0.433333            0        0        0       0    0  \n",
       "2  0.346154    0.450000            0        0        0       0    1  \n",
       "3  0.263736    0.533333            0        0        0       0    0  \n",
       "4  0.335165    0.766667            0        0        0       1    0  "
      ]
     },
     "execution_count": 9,
     "metadata": {},
     "output_type": "execute_result"
    }
   ],
   "source": [
    "down.head()"
   ]
  },
  {
   "cell_type": "code",
   "execution_count": 12,
   "metadata": {
    "scrolled": false
   },
   "outputs": [
    {
     "name": "stdout",
     "output_type": "stream",
     "text": [
      "TRAIN: [ 21  45 110  36 172 107  75  37  61  88 180  22   6  58 104 152  42  26\n",
      " 130 189 162 101 118  85 161  52  84  32  34 146 157  16 131  39  63 159\n",
      "  23  79 179 132  14  51  77 148 117 171 106  46 137 134 163 122  96  25\n",
      " 166 128  81 123 181  64  78  11  89 190  50  18 105  87  33 133  41 178\n",
      " 127  47  93  62 139  82  28   7 111 126  86 108   9   1 149  70  59  60\n",
      "  27 138  55 191   2  49 140 183  15  54  30   5 114  72  95 129 167 113\n",
      " 151  90  65 143 160  76 112 165  24 173 120 115 102  94 109  66 175 150\n",
      " 164 103  80 121  53 188 174 155 135  31 170 187  20  13  71 136  44 154\n",
      " 185 156   0  35  98 145  17 147  92] TEST: [ 43  73   8  67  57 177  91  38   3  69 125 158  10  68  56 153 184 119\n",
      " 169  40 116  97  19  74 142  99 186 176  48 100  29 168  12 141   4  83\n",
      " 144 182 124]\n",
      "TRAIN: [136  71  85  10 163  22 154  75  73  72 107 151  17 113 155 148  20  84\n",
      "  13 182   6 122  23 159 187  98  64  27 138 101 114 191  87   1 176  92\n",
      "  70 162  34 139  76  55 170 117  38 183 171 147 100  44 137 174  88 133\n",
      " 180 141  54  41  78 115 150  26 106 109 103 165 129 124 157 175  61 127\n",
      "  15 108 149   5  21  36  33 142 123  37   7 166 156  39 177 111 119  81\n",
      " 178  40 125  49  45  83  79  66  31 185   9  96   4  42  32  62 130 161\n",
      " 158 184  94 143 167 135  56 131 169  52  57 153  60 164   8  63 110 181\n",
      "   3  90 118  59  51  50 121 189  28  43 120  74 126  46 168 160 144 152\n",
      "  48   0  16 172  47 112 146  35  65] TEST: [ 11 116 145  86  82  77 179  58 128  97  69  68  19  93 104  89  14  99\n",
      "  30 102 173  91  24  12  29 140  80   2 186 105 132  53  25  18 190  67\n",
      "  95 134 188]\n",
      "TRAIN: [ 16 164 183 190 108  27  10 172 157 149 139  84 147 122  37  88 160  51\n",
      "  59  19 128   6   2  66 184 126  50  42 166 100 185  17 127 158 148 116\n",
      "  23  89  86  20 133  98 125  72 159 146 120 182  93  32 189 168  74 169\n",
      " 138  46  60 107 144  40  95 118  38  75  97  26 105  80  30  34   0  13\n",
      "  77  70  29  76   7  71 173 137 141 176 134  65 178  69 170  92 112 151\n",
      "  49  67 140 187 114   3  48  44   1  62 113 102 186  53   4  39 161  58\n",
      " 143 145 154  64 111 124 175 130 117  43  73  22 142   8 179 180  55 121\n",
      "  36  25  94 156  87 123  41  56  28 101 110  45  78  79 103 191  47 109\n",
      " 129  18 152 119  61 162   9  90 104] TEST: [106 132  24  63  15  14 165  81  31  54 155  57  11  99 167 163 177  12\n",
      " 171 188  52   5 135  96 136 181  91  68 174  33 131 115  35  83 153  82\n",
      " 150  85  21]\n",
      "TRAIN: [ 22  57  23  21 141  84 175  94 118  33 188  30 158 187 100  26 127 183\n",
      "  83  20 190  11 174   6  37  91 117 146  27  15  64  76 120 169  74 106\n",
      " 165  89  61 134 105 172  55  95 176  85 111  75 148  73 156 110 130  60\n",
      "  16  99  44  13 189 177 170  12 125 142 145  18  88  80   5 150 109  90\n",
      " 163  32  56  49  86  92 157 159  72  53 101  70  14 151 115 114 161  35\n",
      " 155 167 149  65 107 136 178   9 131 128 113 182  47 154   1 152  52 138\n",
      "  59  29 104 153 139  28 126 144   7 184 122  34  77 168  82  79   3 181\n",
      " 124 191  10 179 135 186  69 173  68  63 129  78 116  24  87 147  38   4\n",
      " 119 103  66  50 133  41  36  25 108] TEST: [ 98  81  31   2 132 160 164 123  39  42  46  96 171 112 185 140 121  71\n",
      "  97 102  58 180 162  19   0  62 137  48   8  93  17  51  43 143  67  54\n",
      "  45  40 166]\n",
      "TRAIN: [ 28 135  52 184   9  85 170  11 183  34   0  16 173  93 111 123  87  98\n",
      "  44  37  75 107 151 179  74  81 118  99 160 124  88 114 150  78 112  51\n",
      " 130  63  86  55 180   7  70 186 141 144  32   3 188  57  76 187  38 153\n",
      "  92 104 163  40  43  58  39  96 166  91 156 125 172 190 169 116 103  68\n",
      " 142  67 108  77 174 185  89 143 131  80 102  62 189 157  83  90 191  21\n",
      " 101  24  46  45 181 105  50  30 159 117   5 100 146 175  64 128  79  10\n",
      " 154  17  66 147 161 137  71  18  36   8 110  13 109   1 140  84 115   6\n",
      " 182 132  53 171 129  48  14 155  12 113   2  72  29  35  69  60  23  49\n",
      "  26 122 176  97  82  95 178  41 148] TEST: [136 139  61  42 119  94 162 167  15  73  33 152  59  27 121 127 145 149\n",
      " 177  22 165 106  47  20 126  31 138  25  19 168 133 134 164  56 120 158\n",
      "  65  54   4]\n"
     ]
    }
   ],
   "source": [
    "from sklearn.model_selection import StratifiedShuffleSplit\n",
    "\n",
    "X = down.drop('Won', axis = 1)\n",
    "y = down['Won']\n",
    "\n",
    "sss = StratifiedShuffleSplit(n_splits=5, test_size=0.2, random_state=42)\n",
    "\n",
    "for train_index, test_index in sss.split(X, y):\n",
    "     print(\"TRAIN:\", train_index, \"TEST:\", test_index)\n",
    "     X_train, X_test = X.iloc[train_index], X.iloc[test_index]\n",
    "     y_train, y_test = y.iloc[train_index], y.iloc[test_index]"
   ]
  },
  {
   "cell_type": "markdown",
   "metadata": {},
   "source": [
    "# Random Forest Classifier"
   ]
  },
  {
   "cell_type": "code",
   "execution_count": 14,
   "metadata": {},
   "outputs": [],
   "source": [
    "from sklearn.ensemble import RandomForestClassifier\n",
    "\n",
    "rfc = RandomForestClassifier()"
   ]
  },
  {
   "cell_type": "code",
   "execution_count": 15,
   "metadata": {},
   "outputs": [
    {
     "data": {
      "text/plain": [
       "RandomForestClassifier()"
      ]
     },
     "execution_count": 15,
     "metadata": {},
     "output_type": "execute_result"
    }
   ],
   "source": [
    "rfc.fit(X_train, y_train)"
   ]
  },
  {
   "cell_type": "code",
   "execution_count": 16,
   "metadata": {},
   "outputs": [],
   "source": [
    "pred = rfc.predict(X_test)"
   ]
  },
  {
   "cell_type": "code",
   "execution_count": 17,
   "metadata": {},
   "outputs": [
    {
     "data": {
      "text/plain": [
       "0.9223684210526316"
      ]
     },
     "execution_count": 17,
     "metadata": {},
     "output_type": "execute_result"
    }
   ],
   "source": [
    "from sklearn.metrics import roc_auc_score\n",
    "roc_auc_score(y_test, pred)"
   ]
  },
  {
   "cell_type": "markdown",
   "metadata": {},
   "source": [
    "Even though this is a great score, let's see if we can make it better with hyperparameter tuning"
   ]
  },
  {
   "cell_type": "code",
   "execution_count": 26,
   "metadata": {},
   "outputs": [],
   "source": [
    "from sklearn.model_selection import GridSearchCV\n",
    "from sklearn.metrics import roc_auc_score\n",
    "\n",
    "n_estimators = [100, 300, 500, 800, 1200]\n",
    "max_depth = [5, 8, 15, 25, 30]\n",
    "min_samples_split = [2, 5, 10, 15, 100]\n",
    "min_samples_leaf = [1, 2, 5, 10] \n",
    "\n",
    "forest = RandomForestClassifier()\n",
    "\n",
    "hyperF = dict(n_estimators = n_estimators, max_depth = max_depth,  \n",
    "              min_samples_split = min_samples_split, \n",
    "             min_samples_leaf = min_samples_leaf)"
   ]
  },
  {
   "cell_type": "code",
   "execution_count": 27,
   "metadata": {},
   "outputs": [],
   "source": [
    "gridF = GridSearchCV(forest, hyperF, scoring = 'roc_auc', cv = 3, verbose = 1, n_jobs = -1)"
   ]
  },
  {
   "cell_type": "code",
   "execution_count": 29,
   "metadata": {},
   "outputs": [
    {
     "name": "stdout",
     "output_type": "stream",
     "text": [
      "Fitting 3 folds for each of 500 candidates, totalling 1500 fits\n"
     ]
    }
   ],
   "source": [
    "bestF = gridF.fit(X_train, y_train)"
   ]
  },
  {
   "cell_type": "code",
   "execution_count": 32,
   "metadata": {},
   "outputs": [
    {
     "data": {
      "text/plain": [
       "{'max_depth': 30,\n",
       " 'min_samples_leaf': 5,\n",
       " 'min_samples_split': 5,\n",
       " 'n_estimators': 100}"
      ]
     },
     "execution_count": 32,
     "metadata": {},
     "output_type": "execute_result"
    }
   ],
   "source": [
    "bestF.best_params_"
   ]
  },
  {
   "cell_type": "code",
   "execution_count": 36,
   "metadata": {},
   "outputs": [],
   "source": [
    "tunedrfc = RandomForestClassifier(n_estimators = 100, max_depth = 30, min_samples_leaf = 5, min_samples_split = 5)"
   ]
  },
  {
   "cell_type": "code",
   "execution_count": 37,
   "metadata": {},
   "outputs": [
    {
     "data": {
      "text/plain": [
       "RandomForestClassifier(max_depth=30, min_samples_leaf=5, min_samples_split=5)"
      ]
     },
     "execution_count": 37,
     "metadata": {},
     "output_type": "execute_result"
    }
   ],
   "source": [
    "tunedrfc.fit(X_train, y_train)"
   ]
  },
  {
   "cell_type": "code",
   "execution_count": 38,
   "metadata": {},
   "outputs": [],
   "source": [
    "pred = tunedrfc.predict(X_test)"
   ]
  },
  {
   "cell_type": "code",
   "execution_count": 39,
   "metadata": {},
   "outputs": [
    {
     "data": {
      "text/plain": [
       "0.9223684210526316"
      ]
     },
     "execution_count": 39,
     "metadata": {},
     "output_type": "execute_result"
    }
   ],
   "source": [
    "from sklearn.metrics import roc_auc_score\n",
    "roc_auc_score(y_test, pred)"
   ]
  },
  {
   "cell_type": "code",
   "execution_count": null,
   "metadata": {},
   "outputs": [],
   "source": []
  }
 ],
 "metadata": {
  "kernelspec": {
   "display_name": "Python 3",
   "language": "python",
   "name": "python3"
  },
  "language_info": {
   "codemirror_mode": {
    "name": "ipython",
    "version": 3
   },
   "file_extension": ".py",
   "mimetype": "text/x-python",
   "name": "python",
   "nbconvert_exporter": "python",
   "pygments_lexer": "ipython3",
   "version": "3.7.6"
  }
 },
 "nbformat": 4,
 "nbformat_minor": 4
}
